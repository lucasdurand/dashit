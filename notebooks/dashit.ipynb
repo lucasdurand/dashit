{
 "cells": [
  {
   "cell_type": "markdown",
   "metadata": {},
   "source": [
    "#### Quick Dash (dashit)\n",
    "\n",
    "```python\n",
    "@deepgreen.api\n",
    "def magic():\n",
    "    return 1\n",
    "```\n",
    "\n",
    "Spins up a server `if __name__ == \"__main__\"` else "
   ]
  },
  {
   "cell_type": "markdown",
   "metadata": {},
   "source": [
    "## My Function"
   ]
  },
  {
   "cell_type": "code",
   "execution_count": 1,
   "metadata": {},
   "outputs": [],
   "source": [
    "from typing import Callable, Union, Any"
   ]
  },
  {
   "cell_type": "code",
   "execution_count": 2,
   "metadata": {},
   "outputs": [],
   "source": [
    "from typing import List, Callable, Tuple, Dict\n",
    "\n",
    "from functools import partial\n",
    "import inspect\n",
    "import pandas as pd\n",
    "\n",
    "import flask\n",
    "    \n",
    "import dash\n",
    "import dash_html_components as html\n",
    "import dash_core_components as dcc"
   ]
  },
  {
   "cell_type": "code",
   "execution_count": 10,
   "metadata": {
    "ExecuteTime": {
     "end_time": "2020-03-25T03:15:42.730944Z",
     "start_time": "2020-03-25T03:15:42.725352Z"
    }
   },
   "outputs": [],
   "source": [
    "def magic(x:int,y:int,z, option1:str = \"nothing\", option2:Dict[str,Any] = \"another\", **kwargs):\n",
    "    \"\"\"My Function Does Everything\n",
    "    \n",
    "    First, it sets it up.\n",
    "    \n",
    "    Then, it knocks it down.\n",
    "    \n",
    "    \"\"\"\n",
    "    i,j,k = kwargs.pop(\"i\",\"\"), kwargs.pop(\"j\",\"\"), kwargs.pop(\"k\",\"\")\n",
    "    return f\"{x},{y},{z} -> magic <- {option1} {option2} ||| {i},{j},{k}\""
   ]
  },
  {
   "cell_type": "code",
   "execution_count": 11,
   "metadata": {
    "ExecuteTime": {
     "end_time": "2020-03-25T03:15:48.716939Z",
     "start_time": "2020-03-25T03:15:48.710902Z"
    }
   },
   "outputs": [
    {
     "data": {
      "text/plain": [
       "FullArgSpec(args=['x', 'y', 'z', 'option1', 'option2'], varargs=None, varkw='kwargs', defaults=('nothing', 'another'), kwonlyargs=[], kwonlydefaults=None, annotations={'x': <class 'int'>, 'y': <class 'int'>, 'option1': <class 'str'>, 'option2': typing.Dict[str, typing.Any]})"
      ]
     },
     "execution_count": 11,
     "metadata": {},
     "output_type": "execute_result"
    }
   ],
   "source": [
    "import inspect\n",
    "inspect.getfullargspec(magic)"
   ]
  },
  {
   "cell_type": "code",
   "execution_count": 24,
   "metadata": {
    "ExecuteTime": {
     "end_time": "2020-03-25T03:15:48.716939Z",
     "start_time": "2020-03-25T03:15:48.710902Z"
    }
   },
   "outputs": [
    {
     "data": {
      "text/plain": [
       "'Dict[str, Any]'"
      ]
     },
     "execution_count": 24,
     "metadata": {},
     "output_type": "execute_result"
    }
   ],
   "source": [
    "types = inspect.getfullargspec(magic)\n",
    "str(types.annotations['option2']).replace(\"typing.\",\"\")"
   ]
  },
  {
   "cell_type": "markdown",
   "metadata": {},
   "source": [
    "# TODO: \n",
    "\n",
    "* named args should be expected as URL params .. that just makes sense"
   ]
  },
  {
   "cell_type": "code",
   "execution_count": 5,
   "metadata": {},
   "outputs": [],
   "source": [
    "def f(x, y=1, **kwargs):\n",
    "    return f\"{x},{y}\""
   ]
  },
  {
   "cell_type": "code",
   "execution_count": 6,
   "metadata": {},
   "outputs": [],
   "source": [
    "def g(x, y=2):\n",
    "    a ** 2\n",
    "    return f\"g{x},{y}\""
   ]
  },
  {
   "cell_type": "code",
   "execution_count": 29,
   "metadata": {},
   "outputs": [],
   "source": [
    "from typing import List, Callable, Union, Tuple\n",
    "\n",
    "from functools import partial\n",
    "import inspect\n",
    "import pandas as pd\n",
    "\n",
    "import flask\n",
    "\n",
    "\n",
    "import dash\n",
    "import dash_html_components as html\n",
    "import dash_core_components as dcc\n",
    "\n",
    "class DashitError(Exception):\n",
    "    pass\n",
    "\n",
    "def generate_rule(f: Callable, app: Union[dash.Dash, flask.Flask]) -> str:\n",
    "    \"\"\"\n",
    "    Generate Flask rule to map URL positional and query params to function inputs\n",
    "    \"\"\"\n",
    "\n",
    "    # Pull base url from either Flask or Dash app config.\n",
    "    APP_BASE = app.config.get(\"APPLICATION_ROOT\") or app.config.get(\"url_base_pathname\")\n",
    "    ENDPOINT = f.__name__\n",
    "\n",
    "    positional, _ = parse_args(f)\n",
    "    url_args = \"\".join([f\"/<{arg}>\" for arg in positional])\n",
    "\n",
    "    rule = f\"{APP_BASE}{ENDPOINT}{url_args}\"\n",
    "    return rule\n",
    "\n",
    "\n",
    "def parse_args(f: Callable) -> Tuple[List[str], List[str]]:\n",
    "\n",
    "    argspec = inspect.getfullargspec(f)\n",
    "    args = argspec.args\n",
    "    defaults = argspec.defaults\n",
    "    positional, named = (\n",
    "        args[: -len(defaults) if defaults else None],\n",
    "        args[-len(defaults) if defaults else None :],\n",
    "    )\n",
    "\n",
    "    return positional, named\n",
    "\n",
    "\n",
    "def whats_the_url(\n",
    "    func: Callable, app: Union[dash.Dash, flask.Flask], *args, **kwargs\n",
    ") -> str:\n",
    "    \"\"\"Generate the url to GET the function once you `dashit`\"\"\"\n",
    "    \n",
    "    signature = inspect.signature(func)\n",
    "    call_errors = [\"missing a required argument\", \"unexpected keyword argument\"]\n",
    "    try:\n",
    "        arguments = signature.bind(*args, **kwargs).arguments\n",
    "    except TypeError as e:\n",
    "        if any([error in str(e) for error in call_errors]):\n",
    "            msg = f\"{e}. {func.__name__} is called like {func.__name__}{signature}\"\n",
    "            raise DashitError(msg) from e\n",
    "        else:\n",
    "            raise\n",
    "            \n",
    "    args = arguments.pop(\"args\", [])\n",
    "    kwargs = arguments.pop(\"kwargs\", {})\n",
    "    url = rule = generate_rule(func, app)\n",
    "    print(args, kwargs, rule)\n",
    "    # postional args\n",
    "    for arg, val in arguments.items():\n",
    "        url = url.replace(f\"<{arg}>\", str(val))\n",
    "    # query params\n",
    "    url += \"?\"\n",
    "    url += \"&\".join([f\"{keyword}={str(val)}\" for keyword, val in kwargs.items()])\n",
    "    url = url.strip(\"?\")\n",
    "\n",
    "    return url\n",
    "\n",
    "def eval_params() -> Dict[str,Any]:\n",
    "    \"\"\"Attempt to evaluate dictionary values as python code, else return them as is\"\"\"\n",
    "    import ast\n",
    "\n",
    "    kwargs = {}\n",
    "    for k, v in flask.request.args.to_dict(flat=True).items():\n",
    "        try:\n",
    "            kwargs[k] = ast.literal_eval(v)\n",
    "        except:\n",
    "            kwargs[k] = v\n",
    "    return kwargs\n",
    "\n",
    "\n",
    "def inject_flask_params_as_kwargs(func, **kwargs):\n",
    "    \"\"\"Flask converts the url variables into kwargs. We pass those back to our function as args. We also want to inject as kwargs the optional URL parameters\"\"\"\n",
    "    positional = kwargs\n",
    "\n",
    "    params = eval_params()  # &var1=[\"this\"]&another=true -> {\"var\":[\"this\"],\"another\":\"true\"}\n",
    "\n",
    "    call_errors = [\"missing a required argument\", \"unexpected keyword argument\"]\n",
    "\n",
    "    try:\n",
    "        value = func(**positional, **params)\n",
    "\n",
    "    except TypeError as e:\n",
    "        if any([error in str(e) for error in call_errors]):\n",
    "            signature = inspect.signature(func)\n",
    "            msg = f\"{func.__name__} is called like {func.__name__}{signature}. {e}.\"\n",
    "            raise DashitError(msg) from e\n",
    "        else:\n",
    "            raise\n",
    "\n",
    "    return value\n",
    "\n",
    "def add_rule(app: Union[flask.Flask, dash.Dash], f: Callable):\n",
    "    \"\"\"\n",
    "    Register function as Flask route. Positional and named arguments are all required. \n",
    "    In order to handle optional arguments, use **kwargs. *args, is right out.\n",
    "    \"\"\"\n",
    "    rule = generate_rule(f, app)\n",
    "    \n",
    "    server = app if isinstance(app, flask.Flask) else app.server \n",
    "    server.add_url_rule(\n",
    "        rule, endpoint=f.__name__, view_func=partial(_all_the_small_things, func=f)\n",
    "    )\n",
    "    f.url = partial(whats_the_url, f, server)\n",
    "    return rule\n",
    "\n",
    "def handle_wacky_types(thing):\n",
    "    if isinstance(thing, pd.DataFrame):\n",
    "        thing = thing.to_json(orient=\"table\")\n",
    "    return thing\n",
    "\n",
    "def _all_the_small_things(func, **kwargs):\n",
    "    response = inject_flask_params_as_kwargs(func, **kwargs)\n",
    "    response = handle_wacky_types(response)\n",
    "    return response\n",
    "\n",
    "def dashit(functions: List[Callable], appname: str):\n",
    "    \"\"\"\n",
    "    Create a QUICK Dash app exposing your functions as API endpoints!\n",
    "    \n",
    "    endpoint url:  \n",
    "    \n",
    "    All positional arguments will be required in the url. Named and keyword args are passed as query params.\n",
    "    \"\"\"\n",
    "\n",
    "    app = dash.Dash(__name__, url_base_pathname=f\"/{appname}/\")    \n",
    "\n",
    "    new_routes = [\n",
    "        {\n",
    "            \"name\": func.__name__,\n",
    "            \"docstring\": inspect.cleandoc(func.__doc__) if func.__doc__ else \"\",\n",
    "            \"endpoint\": add_rule(app, func),\n",
    "        }\n",
    "        for func in functions\n",
    "    ]\n",
    "\n",
    "    def generate_endpoint_html(route):\n",
    "        return (\n",
    "            dcc.Markdown(\n",
    "                [f\"\"\"**{route[\"name\"]}:** [{route[\"endpoint\"]}]({route[\"endpoint\"]})\"\"\"]\n",
    "            ),\n",
    "            html.Blockquote([dcc.Markdown([route[\"docstring\"]])]),\n",
    "        )\n",
    "\n",
    "    flatten = lambda l: [item for sublist in l for item in sublist]\n",
    "\n",
    "    app.layout = html.Div(\n",
    "        [\n",
    "            html.H1([appname]),\n",
    "            html.H3(\n",
    "                [\"DASHIT: Functions Are APIs Now.\"]\n",
    "            ),  # some explanation on how the app works. Use function docstring.\n",
    "            html.Div(flatten([generate_endpoint_html(route) for route in new_routes])),\n",
    "        ]\n",
    "    )\n",
    "    print(new_routes)\n",
    "\n",
    "    return app\n"
   ]
  },
  {
   "cell_type": "code",
   "execution_count": 30,
   "metadata": {},
   "outputs": [
    {
     "name": "stdout",
     "output_type": "stream",
     "text": [
      "[{'name': 'f', 'docstring': '', 'endpoint': '/test/f/<x>'}, {'name': 'g', 'docstring': '', 'endpoint': '/test/g/<x>'}]\n"
     ]
    }
   ],
   "source": [
    "app = dashit([f,g], \"test\")"
   ]
  },
  {
   "cell_type": "code",
   "execution_count": 31,
   "metadata": {},
   "outputs": [
    {
     "name": "stdout",
     "output_type": "stream",
     "text": [
      "[] {} /test/g/<x>\n"
     ]
    },
    {
     "data": {
      "text/plain": [
       "'/test/g/1'"
      ]
     },
     "execution_count": 31,
     "metadata": {},
     "output_type": "execute_result"
    }
   ],
   "source": [
    "whats_the_url(g,app,1, y=30)"
   ]
  },
  {
   "cell_type": "code",
   "execution_count": 25,
   "metadata": {},
   "outputs": [],
   "source": [
    "def h(x):\n",
    "    return x"
   ]
  },
  {
   "cell_type": "code",
   "execution_count": 26,
   "metadata": {},
   "outputs": [
    {
     "data": {
      "text/plain": [
       "FullArgSpec(args=['x'], varargs=None, varkw=None, defaults=None, kwonlyargs=[], kwonlydefaults=None, annotations={})"
      ]
     },
     "execution_count": 26,
     "metadata": {},
     "output_type": "execute_result"
    }
   ],
   "source": [
    "inspect.getfullargspec(h)"
   ]
  },
  {
   "cell_type": "code",
   "execution_count": 27,
   "metadata": {},
   "outputs": [
    {
     "data": {
      "text/plain": [
       "'/test/h/<x>'"
      ]
     },
     "execution_count": 27,
     "metadata": {},
     "output_type": "execute_result"
    }
   ],
   "source": [
    "add_rule(app, h)"
   ]
  },
  {
   "cell_type": "code",
   "execution_count": 28,
   "metadata": {
    "scrolled": false
   },
   "outputs": [
    {
     "name": "stdout",
     "output_type": "stream",
     "text": [
      " * Serving Flask app \"__main__\" (lazy loading)\n",
      " * Environment: production\n",
      "\u001b[31m   WARNING: This is a development server. Do not use it in a production deployment.\u001b[0m\n",
      "\u001b[2m   Use a production WSGI server instead.\u001b[0m\n",
      " * Debug mode: off\n"
     ]
    },
    {
     "name": "stderr",
     "output_type": "stream",
     "text": [
      " * Running on http://127.0.0.1:8050/ (Press CTRL+C to quit)\n",
      "127.0.0.1 - - [28/Mar/2020 13:53:20] \"\u001b[37mGET /test/h HTTP/1.1\u001b[0m\" 200 -\n",
      "127.0.0.1 - - [28/Mar/2020 13:53:21] \"\u001b[37mGET /test/_dash-layout HTTP/1.1\u001b[0m\" 200 -\n",
      "127.0.0.1 - - [28/Mar/2020 13:53:21] \"\u001b[37mGET /test/_dash-dependencies HTTP/1.1\u001b[0m\" 200 -\n",
      "127.0.0.1 - - [28/Mar/2020 13:53:28] \"\u001b[37mGET /test/h HTTP/1.1\u001b[0m\" 200 -\n",
      "127.0.0.1 - - [28/Mar/2020 13:53:28] \"\u001b[37mGET /test/_dash-dependencies HTTP/1.1\u001b[0m\" 200 -\n",
      "127.0.0.1 - - [28/Mar/2020 13:53:28] \"\u001b[37mGET /test/_dash-layout HTTP/1.1\u001b[0m\" 200 -\n",
      "127.0.0.1 - - [28/Mar/2020 13:53:28] \"\u001b[37mGET /test/_favicon.ico?v=1.9.1 HTTP/1.1\u001b[0m\" 200 -\n"
     ]
    }
   ],
   "source": [
    "app.run_server()"
   ]
  },
  {
   "cell_type": "code",
   "execution_count": null,
   "metadata": {},
   "outputs": [],
   "source": []
  }
 ],
 "metadata": {
  "hide_input": false,
  "kernelspec": {
   "display_name": "Python 3",
   "language": "python",
   "name": "python3"
  },
  "language_info": {
   "codemirror_mode": {
    "name": "ipython",
    "version": 3
   },
   "file_extension": ".py",
   "mimetype": "text/x-python",
   "name": "python",
   "nbconvert_exporter": "python",
   "pygments_lexer": "ipython3",
   "version": "3.7.5"
  }
 },
 "nbformat": 4,
 "nbformat_minor": 2
}
