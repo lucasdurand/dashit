{
 "cells": [
  {
   "cell_type": "markdown",
   "metadata": {},
   "source": [
    "# Quick Dash (dashit)\n",
    "\n",
    "```python\n",
    "@deepgreen.api\n",
    "def magic():\n",
    "    return 1\n",
    "```\n",
    "\n",
    "Spins up a server `if __name__ == \"__main__\"` else "
   ]
  },
  {
   "cell_type": "markdown",
   "metadata": {},
   "source": [
    "## My Function"
   ]
  },
  {
   "cell_type": "code",
   "execution_count": 9,
   "metadata": {
    "ExecuteTime": {
     "end_time": "2020-03-25T03:15:42.730944Z",
     "start_time": "2020-03-25T03:15:42.725352Z"
    }
   },
   "outputs": [],
   "source": [
    "def magic(x,y,z, option1=\"nothing\", option2=\"another\", **kwargs):\n",
    "    \"\"\"My Function Does Everything\n",
    "    \n",
    "    First, it sets it up.\n",
    "    \n",
    "    Then, it knocks it down.\n",
    "    \n",
    "    \"\"\"\n",
    "    i,j,k = kwargs.pop(\"i\",\"\"), kwargs.pop(\"j\",\"\"), kwargs.pop(\"k\",\"\")\n",
    "    return f\"{x},{y},{z} -> magic <- {option1} {option2} ||| {i},{j},{k}\""
   ]
  },
  {
   "cell_type": "code",
   "execution_count": 10,
   "metadata": {
    "ExecuteTime": {
     "end_time": "2020-03-25T03:15:48.716939Z",
     "start_time": "2020-03-25T03:15:48.710902Z"
    }
   },
   "outputs": [
    {
     "data": {
      "text/plain": [
       "FullArgSpec(args=['x', 'y', 'z', 'option1', 'option2'], varargs=None, varkw='kwargs', defaults=('nothing', 'another'), kwonlyargs=[], kwonlydefaults=None, annotations={})"
      ]
     },
     "execution_count": 10,
     "metadata": {},
     "output_type": "execute_result"
    }
   ],
   "source": [
    "import inspect\n",
    "inspect.getfullargspec(magic)"
   ]
  },
  {
   "cell_type": "markdown",
   "metadata": {},
   "source": [
    "# TODO: \n",
    "\n",
    "* named args should be expected as URL params .. that just makes sense"
   ]
  },
  {
   "cell_type": "code",
   "execution_count": 11,
   "metadata": {},
   "outputs": [
    {
     "name": "stdout",
     "output_type": "stream",
     "text": [
      "[{'name': 'magic', 'docstring': 'My Function Does Everything\\n\\nFirst, it sets it up.\\n\\nThen, it knocks it down.', 'endpoint': '//magic/<x>/<y>/<z>/<option1>/<option2>'}]\n"
     ]
    }
   ],
   "source": [
    "app = dashit([magic], \"\")"
   ]
  },
  {
   "cell_type": "code",
   "execution_count": 45,
   "metadata": {},
   "outputs": [
    {
     "name": "stdout",
     "output_type": "stream",
     "text": [
      "[] {'test': 4} //magic/<x>/<y>/<z>/<option1>/<option2>\n"
     ]
    },
    {
     "data": {
      "text/plain": [
       "'//magic/1/2/3/<option1>/<option2>?test=4'"
      ]
     },
     "execution_count": 45,
     "metadata": {},
     "output_type": "execute_result"
    }
   ],
   "source": [
    "whats_the_url(magic, app, 1, 2, 3, test =4)"
   ]
  },
  {
   "cell_type": "code",
   "execution_count": 43,
   "metadata": {},
   "outputs": [],
   "source": [
    "from typing import List, Callable\n",
    "\n",
    "from functools import partial\n",
    "import inspect\n",
    "import pandas as pd\n",
    "\n",
    "import flask\n",
    "    \n",
    "import dash\n",
    "import dash_html_components as html\n",
    "import dash_core_components as dcc\n",
    "\n",
    "def whats_the_url(function: Callable, app, *args, **kwargs):\n",
    "    \"\"\"Generate the url to GET the function once you `dashit`\"\"\"\n",
    "    arguments = inspect.signature(function).bind(*args,**kwargs).arguments\n",
    "    args = arguments.pop(\"args\",[])\n",
    "    kwargs = arguments.pop(\"kwargs\",{})\n",
    "    url = rule = generate_rule(function, app)\n",
    "    print(args, kwargs, rule)\n",
    "    # postional args\n",
    "    for arg, val in arguments.items():\n",
    "        url = url.replace(f\"<{arg}>\", str(val))\n",
    "    # query params\n",
    "    url += \"?\"\n",
    "    url += \"&\".join([f\"{keyword}={str(val)}\" for keyword, val in kwargs.items()])\n",
    "    url = url.strip(\"?\")\n",
    "    return url\n",
    "\n",
    "def generate_rule(f, app):\n",
    "    \"\"\"\n",
    "    Generate Flask rule to map URL positional and query params to function inputs\n",
    "    \"\"\"\n",
    "\n",
    "    APP_BASE = app.config[\"url_base_pathname\"]\n",
    "\n",
    "    argspec = inspect.getfullargspec(f)\n",
    "    argspec\n",
    "\n",
    "    BASE = f.__name__\n",
    "    args = argspec.args\n",
    "    args = \"\".join([f\"/<{arg}>\" for arg in argspec.args])\n",
    "\n",
    "    rule = f\"{APP_BASE}{BASE}{args}\"        \n",
    "    return rule\n",
    "\n",
    "def dashit(functions: List[Callable], appname: str):\n",
    "    \"\"\"\n",
    "    Create a QUICK Dash app exposing your functions as API endpoints!\n",
    "    \n",
    "    endpoint url:  \n",
    "    \n",
    "    All positional and named arguments will be required in the url\n",
    "    \"\"\"\n",
    "    app = dash.Dash(__name__, url_base_pathname = f\"/{appname}/\")\n",
    "\n",
    "    def eval_params(dict):\n",
    "        \"\"\"Attempt to evaluate dictionary values as python code, else return them as is\"\"\"\n",
    "        import ast\n",
    "        kwargs = {}\n",
    "        for k,v in flask.request.args.to_dict(flat=True).items():\n",
    "            try:\n",
    "                kwargs[k] = ast.literal_eval(v)\n",
    "            except:\n",
    "                kwargs[k] = v\n",
    "        return kwargs\n",
    "\n",
    "    def inject_flask_params_as_kwargs(func, **kwargs):\n",
    "        \"\"\"Flask converts the url variables into kwargs. We pass those back to our function as args. We also want to inject as kwargs the optional URL parameters\"\"\"\n",
    "        args = kwargs\n",
    "        # kwargs = flask.request.args.to_dict(flat=False) &var=1&var=2 -> var:[1,2]\n",
    "        kwargs = eval_params(flask.request.args.to_dict(flat=True)) #&var1=[\"this\"]&another=true -> {\"var\":[\"this\"],\"another\":\"true\"} \n",
    "        # TODO: ast.literal_eval on args to catch bools, dicts, etc.s\n",
    "        print(args, kwargs)\n",
    "        return func(**args, **kwargs )\n",
    "\n",
    "    def handle_wacky_types(thing):\n",
    "        if isinstance(thing, pd.DataFrame):\n",
    "            thing = thing.to_json(orient=\"table\")\n",
    "        return thing\n",
    "    \n",
    "    def all_the_small_things(func, **kwargs):\n",
    "        response = inject_flask_params_as_kwargs(func, **kwargs)\n",
    "        response = handle_wacky_types(response)\n",
    "        return response\n",
    "\n",
    "    \n",
    "    def add_rule(app, f):\n",
    "        \"\"\"\n",
    "        Register function as Flask route. Positional and named arguments are all required. \n",
    "        In order to handle optional arguments, use **kwargs. *args, is right out.\n",
    "        \"\"\"\n",
    "        rule = generate_rule(f, app)\n",
    "        app.server.add_url_rule(rule, endpoint = f.__name__, view_func = partial(all_the_small_things,func=f))\n",
    "        return rule\n",
    "\n",
    "    new_routes = [{\"name\": func.__name__, \"docstring\": inspect.cleandoc(func.__doc__) if func.__doc__ else \"\", \"endpoint\": add_rule(app,func)} for func in functions]\n",
    "\n",
    "    def generate_endpoint_html(route):\n",
    "        return dcc.Markdown([f\"\"\"**{route[\"name\"]}:** [{route[\"endpoint\"]}]({route[\"endpoint\"]})\"\"\"]), html.Blockquote([dcc.Markdown([route[\"docstring\"]])])\n",
    "    flatten = lambda l: [item for sublist in l for item in sublist]\n",
    "\n",
    "    app.layout = html.Div([\n",
    "        html.H1([appname]),\n",
    "        html.H3([\"DASHIT: Functions Are APIs Now.\"]), #some explanation on how the app works. Use function docstring.\n",
    "        html.Div(flatten([\n",
    "            generate_endpoint_html(route) for route in new_routes\n",
    "        ]))\n",
    "    ])\n",
    "    print(new_routes)\n",
    "    \n",
    "    return app\n"
   ]
  },
  {
   "cell_type": "code",
   "execution_count": 159,
   "metadata": {
    "ExecuteTime": {
     "end_time": "2020-03-25T04:10:12.882966Z",
     "start_time": "2020-03-25T04:10:12.867904Z"
    }
   },
   "outputs": [
    {
     "name": "stdout",
     "output_type": "stream",
     "text": [
      "[{'name': 'magic', 'docstring': 'My Function Does Everything\\n\\nFirst, it sets it up.\\n\\nThen, it knocks it down.', 'endpoint': '/Titanic/magic/<x>/<y>/<z>/<option1>/<option2>'}]\n"
     ]
    }
   ],
   "source": [
    "app = dashit([magic], \"Titanic\")"
   ]
  },
  {
   "cell_type": "code",
   "execution_count": 102,
   "metadata": {
    "ExecuteTime": {
     "end_time": "2020-03-25T03:50:58.670509Z",
     "start_time": "2020-03-25T03:50:44.179264Z"
    },
    "scrolled": false
   },
   "outputs": [
    {
     "name": "stdout",
     "output_type": "stream",
     "text": [
      " * Serving Flask app \"__main__\" (lazy loading)\n",
      " * Environment: production\n",
      "   WARNING: This is a development server. Do not use it in a production deployment.\n",
      "   Use a production WSGI server instead.\n",
      " * Debug mode: off\n"
     ]
    },
    {
     "name": "stderr",
     "output_type": "stream",
     "text": [
      " * Running on http://0.0.0.0:16900/ (Press CTRL+C to quit)\n",
      "49.37.49.68 - - [24/Mar/2020 23:50:45] \"\u001b[37mGET /Titanic/ HTTP/1.1\u001b[0m\" 200 -\n",
      "49.37.49.68 - - [24/Mar/2020 23:50:45] \"\u001b[37mGET /Titanic/_dash-component-suites/dash_renderer/polyfill@7.v1_2_3m1584560928.7.0.min.js HTTP/1.1\u001b[0m\" 200 -\n",
      "49.37.49.68 - - [24/Mar/2020 23:50:46] \"\u001b[37mGET /Titanic/_dash-component-suites/dash_renderer/react@16.v1_2_3m1584560928.8.6.min.js HTTP/1.1\u001b[0m\" 200 -\n",
      "49.37.49.68 - - [24/Mar/2020 23:50:46] \"\u001b[37mGET /Titanic/_dash-component-suites/dash_renderer/react-dom@16.v1_2_3m1584560928.8.6.min.js HTTP/1.1\u001b[0m\" 200 -\n",
      "49.37.49.68 - - [24/Mar/2020 23:50:46] \"\u001b[37mGET /Titanic/_dash-component-suites/dash_renderer/prop-types@15.v1_2_3m1584560928.7.2.min.js HTTP/1.1\u001b[0m\" 200 -\n",
      "49.37.49.68 - - [24/Mar/2020 23:50:46] \"\u001b[37mGET /Titanic/_dash-component-suites/dash_core_components/dash_core_components.v1_7_0m1584560928.min.js HTTP/1.1\u001b[0m\" 200 -\n",
      "49.37.49.68 - - [24/Mar/2020 23:50:46] \"\u001b[37mGET /Titanic/_dash-component-suites/dash_core_components/dash_core_components-shared.v1_7_0m1584560928.js HTTP/1.1\u001b[0m\" 200 -\n",
      "49.37.49.68 - - [24/Mar/2020 23:50:46] \"\u001b[37mGET /Titanic/_dash-component-suites/dash_html_components/dash_html_components.v1_0_2m1582131897.min.js HTTP/1.1\u001b[0m\" 200 -\n",
      "49.37.49.68 - - [24/Mar/2020 23:50:46] \"\u001b[37mGET /Titanic/_dash-component-suites/dash_renderer/dash_renderer.v1_2_3m1584560928.min.js HTTP/1.1\u001b[0m\" 200 -\n",
      "49.37.49.68 - - [24/Mar/2020 23:50:47] \"\u001b[37mGET /Titanic/_dash-layout HTTP/1.1\u001b[0m\" 200 -\n",
      "49.37.49.68 - - [24/Mar/2020 23:50:47] \"\u001b[37mGET /Titanic/_dash-dependencies HTTP/1.1\u001b[0m\" 200 -\n",
      "49.37.49.68 - - [24/Mar/2020 23:50:47] \"\u001b[37mGET /Titanic/_favicon.ico?v=1.8.0 HTTP/1.1\u001b[0m\" 200 -\n",
      "49.37.49.68 - - [24/Mar/2020 23:50:47] \"\u001b[37mGET /Titanic/_dash-component-suites/dash_core_components/async~markdown.v1_7_0m1579024535.js HTTP/1.1\u001b[0m\" 200 -\n",
      "49.37.49.68 - - [24/Mar/2020 23:50:47] \"\u001b[37mGET /Titanic/_dash-component-suites/dash_core_components/async~highlight.v1_7_0m1579024535.js HTTP/1.1\u001b[0m\" 200 -\n"
     ]
    }
   ],
   "source": [
    "app.run_server(host=\"0.0.0.0\", port=16900)"
   ]
  },
  {
   "cell_type": "markdown",
   "metadata": {},
   "source": [
    "# Spin up an api\n",
    "\n",
    "From:\n",
    "\n",
    "* an ML model\n",
    "* a function"
   ]
  }
 ],
 "metadata": {
  "hide_input": false,
  "kernelspec": {
   "display_name": "Python 3",
   "language": "python",
   "name": "python3"
  },
  "language_info": {
   "codemirror_mode": {
    "name": "ipython",
    "version": 3
   },
   "file_extension": ".py",
   "mimetype": "text/x-python",
   "name": "python",
   "nbconvert_exporter": "python",
   "pygments_lexer": "ipython3",
   "version": "3.7.5"
  }
 },
 "nbformat": 4,
 "nbformat_minor": 2
}
