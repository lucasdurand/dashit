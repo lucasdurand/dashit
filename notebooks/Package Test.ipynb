{
 "cells": [
  {
   "cell_type": "markdown",
   "metadata": {},
   "source": [
    "# Instant API\n",
    "\n",
    "Spin up a flask API *snaps fingers* like that.\n",
    "\n",
    "* Create a flask app\n",
    "* Add /api endpoints to existing flask app\n",
    "* Support enriching a Dash app"
   ]
  },
  {
   "cell_type": "code",
   "execution_count": null,
   "metadata": {},
   "outputs": [],
   "source": []
  },
  {
   "cell_type": "code",
   "execution_count": 1,
   "metadata": {},
   "outputs": [],
   "source": [
    "import os\n",
    "os.chdir(\"../\")"
   ]
  },
  {
   "cell_type": "code",
   "execution_count": 2,
   "metadata": {},
   "outputs": [],
   "source": [
    "from typing import Dict, Any\n",
    "\n",
    "def test(x:str, y:bool=True, z:Dict[str,Any]={\"a\":1,\"b\":True}, **kwargs):\n",
    "    \"\"\"Very simple test function. Supply x for fun and optionally use help for help!\"\"\"\n",
    "    #print(args[0].__name__)\n",
    "    help = kwargs.pop(\"help\",\"\")\n",
    "    return f\"\"\"fun {x} {y} {z.items()}{f\"help! {help}\" if help else \"\"}\"\"\"\n",
    "\n",
    "def just_the_one(x):\n",
    "    return x\n",
    "\n",
    "\n",
    "def named_int(x=1):\n",
    "    return str(x)"
   ]
  },
  {
   "cell_type": "code",
   "execution_count": 3,
   "metadata": {},
   "outputs": [
    {
     "name": "stdout",
     "output_type": "stream",
     "text": [
      "{} (1,) [] ['x']\n",
      "{'x': <class 'str'>, 'y': <class 'bool'>, 'z': typing.Dict[str, typing.Any]} (True, {'a': 1, 'b': True}) ['x'] ['y', 'z']\n",
      "{} None ['x'] ['x']\n",
      "Swagger at: swagger\n",
      "Map([<Rule '/api/api/named_int' (GET, HEAD, OPTIONS) -> api./api/named_int>,\n",
      " <Rule '/api/swagger' (GET, HEAD, OPTIONS) -> api.serve_swagger_spec>,\n",
      " <Rule '/api/' (GET, HEAD, OPTIONS) -> api.serve_swagger_ui>,\n",
      " <Rule '/api/api/just_the_one/<x>' (GET, HEAD, OPTIONS) -> api./api/just_the_one/<x>>,\n",
      " <Rule '/api/api/test/<x>' (GET, HEAD, OPTIONS) -> api./api/test/<x>>,\n",
      " <Rule '/static/<filename>' (GET, HEAD, OPTIONS) -> static>])\n"
     ]
    }
   ],
   "source": [
    "import dashit\n",
    "app = dashit.dashit.flaskit([named_int, test, just_the_one], appname= \"titanic\")"
   ]
  },
  {
   "cell_type": "code",
   "execution_count": 4,
   "metadata": {},
   "outputs": [
    {
     "name": "stdout",
     "output_type": "stream",
     "text": [
      " * Serving Flask app \"dashit.dashit\" (lazy loading)\n",
      " * Environment: production\n",
      "\u001b[31m   WARNING: This is a development server. Do not use it in a production deployment.\u001b[0m\n",
      "\u001b[2m   Use a production WSGI server instead.\u001b[0m\n",
      " * Debug mode: off\n"
     ]
    },
    {
     "name": "stderr",
     "output_type": "stream",
     "text": [
      " * Running on http://127.0.0.1:5000/ (Press CTRL+C to quit)\n"
     ]
    }
   ],
   "source": [
    "app.run()"
   ]
  },
  {
   "cell_type": "code",
   "execution_count": 5,
   "metadata": {},
   "outputs": [
    {
     "name": "stdout",
     "output_type": "stream",
     "text": [
      "{} (1,) [] ['x']\n",
      "{'x': <class 'str'>, 'y': <class 'bool'>, 'z': typing.Dict[str, typing.Any]} (True, {'a': 1, 'b': True}) ['x'] ['y', 'z']\n",
      "{} None ['x'] ['x']\n",
      "Swagger at: swagger\n",
      "Map([<Rule '/titanic/api/api/named_int' (GET, HEAD, OPTIONS) -> api./api/named_int>,\n",
      " <Rule '/titanic/api/swagger' (GET, HEAD, OPTIONS) -> api.serve_swagger_spec>,\n",
      " <Rule '/titanic/_dash-update-component' (POST, OPTIONS) -> /titanic/_dash-update-component>,\n",
      " <Rule '/titanic/_dash-dependencies' (GET, HEAD, OPTIONS) -> /titanic/_dash-dependencies>,\n",
      " <Rule '/titanic/_dash-layout' (GET, HEAD, OPTIONS) -> /titanic/_dash-layout>,\n",
      " <Rule '/titanic/_dash-routes' (GET, HEAD, OPTIONS) -> /titanic/_dash-routes>,\n",
      " <Rule '/titanic/_reload-hash' (GET, HEAD, OPTIONS) -> /titanic/_reload-hash>,\n",
      " <Rule '/titanic/_favicon.ico' (GET, HEAD, OPTIONS) -> /titanic/_favicon.ico>,\n",
      " <Rule '/titanic/api/' (GET, HEAD, OPTIONS) -> api.serve_swagger_ui>,\n",
      " <Rule '/titanic/' (GET, HEAD, OPTIONS) -> /titanic/>,\n",
      " <Rule '/titanic/api/api/just_the_one/<x>' (GET, HEAD, OPTIONS) -> api./api/just_the_one/<x>>,\n",
      " <Rule '/titanic/api/api/test/<x>' (GET, HEAD, OPTIONS) -> api./api/test/<x>>,\n",
      " <Rule '/titanic/_dash-component-suites/<package_name>/<path_in_package_dist>' (GET, HEAD, OPTIONS) -> /titanic/_dash-component-suites/<string:package_name>/<path:path_in_package_dist>>,\n",
      " <Rule '/titanic/assets/<filename>' (GET, HEAD, OPTIONS) -> _titanic_dash_assets.static>,\n",
      " <Rule '/titanic/<path>' (GET, HEAD, OPTIONS) -> /titanic/<path:path>>,\n",
      " <Rule '/static/<filename>' (GET, HEAD, OPTIONS) -> static>])\n"
     ]
    }
   ],
   "source": [
    "app = dashit.dashit.dashit([named_int, test, just_the_one], appname=\"titanic\")"
   ]
  },
  {
   "cell_type": "code",
   "execution_count": null,
   "metadata": {},
   "outputs": [
    {
     "name": "stdout",
     "output_type": "stream",
     "text": [
      " * Serving Flask app \"dashit.dashit\" (lazy loading)\n",
      " * Environment: production\n",
      "\u001b[31m   WARNING: This is a development server. Do not use it in a production deployment.\u001b[0m\n",
      "\u001b[2m   Use a production WSGI server instead.\u001b[0m\n",
      " * Debug mode: off\n"
     ]
    },
    {
     "name": "stderr",
     "output_type": "stream",
     "text": [
      " * Running on http://127.0.0.1:8050/ (Press CTRL+C to quit)\n",
      "127.0.0.1 - - [05/Apr/2020 11:45:01] \"\u001b[37mGET /titanic/swagger HTTP/1.1\u001b[0m\" 200 -\n",
      "127.0.0.1 - - [05/Apr/2020 11:45:01] \"\u001b[37mGET /titanic/_dash-layout HTTP/1.1\u001b[0m\" 200 -\n",
      "127.0.0.1 - - [05/Apr/2020 11:45:01] \"\u001b[37mGET /titanic/_dash-dependencies HTTP/1.1\u001b[0m\" 200 -\n",
      "127.0.0.1 - - [05/Apr/2020 11:45:01] \"\u001b[37mGET /titanic/_dash-component-suites/dash_core_components/dash_core_components-shared.js.map HTTP/1.1\u001b[0m\" 200 -\n",
      "127.0.0.1 - - [05/Apr/2020 11:45:01] \"\u001b[37mGET /titanic/_dash-component-suites/dash_core_components/dash_core_components.min.js.map HTTP/1.1\u001b[0m\" 200 -\n",
      "127.0.0.1 - - [05/Apr/2020 11:45:01] \"\u001b[37mGET /titanic/_dash-component-suites/dash_html_components/dash_html_components.min.js.map HTTP/1.1\u001b[0m\" 200 -\n",
      "127.0.0.1 - - [05/Apr/2020 11:45:06] \"\u001b[37mGET /titanic/api/swagger HTTP/1.1\u001b[0m\" 200 -\n",
      "127.0.0.1 - - [05/Apr/2020 11:45:08] \"\u001b[32mGET /titanic/api HTTP/1.1\u001b[0m\" 308 -\n",
      "127.0.0.1 - - [05/Apr/2020 11:45:08] \"\u001b[37mGET /titanic/api/ HTTP/1.1\u001b[0m\" 200 -\n",
      "127.0.0.1 - - [05/Apr/2020 11:45:08] \"\u001b[37mGET /titanic/api/swagger HTTP/1.1\u001b[0m\" 200 -\n",
      "127.0.0.1 - - [05/Apr/2020 11:45:11] \"\u001b[37mGET /titanic/ HTTP/1.1\u001b[0m\" 200 -\n",
      "127.0.0.1 - - [05/Apr/2020 11:45:11] \"\u001b[37mGET /titanic/_dash-dependencies HTTP/1.1\u001b[0m\" 200 -\n",
      "127.0.0.1 - - [05/Apr/2020 11:45:11] \"\u001b[37mGET /titanic/_dash-layout HTTP/1.1\u001b[0m\" 200 -\n",
      "127.0.0.1 - - [05/Apr/2020 11:45:11] \"\u001b[37mGET /titanic/_dash-component-suites/dash_core_components/dash_core_components-shared.js.map HTTP/1.1\u001b[0m\" 200 -\n",
      "127.0.0.1 - - [05/Apr/2020 11:45:11] \"\u001b[37mGET /titanic/_dash-component-suites/dash_core_components/dash_core_components.min.js.map HTTP/1.1\u001b[0m\" 200 -\n",
      "127.0.0.1 - - [05/Apr/2020 11:45:11] \"\u001b[37mGET /titanic/_dash-component-suites/dash_html_components/dash_html_components.min.js.map HTTP/1.1\u001b[0m\" 200 -\n"
     ]
    }
   ],
   "source": [
    "app.run_server()"
   ]
  }
 ],
 "metadata": {
  "kernelspec": {
   "display_name": "Python 3",
   "language": "python",
   "name": "python3"
  },
  "language_info": {
   "codemirror_mode": {
    "name": "ipython",
    "version": 3
   },
   "file_extension": ".py",
   "mimetype": "text/x-python",
   "name": "python",
   "nbconvert_exporter": "python",
   "pygments_lexer": "ipython3",
   "version": "3.7.5"
  }
 },
 "nbformat": 4,
 "nbformat_minor": 4
}
