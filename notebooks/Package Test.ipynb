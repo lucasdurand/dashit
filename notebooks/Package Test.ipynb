{
 "cells": [
  {
   "cell_type": "code",
   "execution_count": 2,
   "metadata": {},
   "outputs": [],
   "source": [
    "import os\n",
    "os.chdir(\"../\")"
   ]
  },
  {
   "cell_type": "code",
   "execution_count": 4,
   "metadata": {},
   "outputs": [],
   "source": [
    "import dashit"
   ]
  },
  {
   "cell_type": "code",
   "execution_count": 5,
   "metadata": {},
   "outputs": [],
   "source": [
    "def test(x, **kwargs):\n",
    "    \"\"\"Very simple test function. Supply x for fun and optionally use help for help!\"\"\"\n",
    "    help = kwargs.pop(\"help\",\"\")\n",
    "    return f\"\"\"fun {x} {\"help!\" if help else \"\"}\"\"\""
   ]
  },
  {
   "cell_type": "code",
   "execution_count": 7,
   "metadata": {},
   "outputs": [
    {
     "name": "stdout",
     "output_type": "stream",
     "text": [
      "[{'name': 'test', 'docstring': 'Very simple test function. Supply x for fun and optionally use help for help!', 'endpoint': '/test/test/<x>'}]\n"
     ]
    }
   ],
   "source": [
    "app = dashit.dashit([test], \"test\")"
   ]
  },
  {
   "cell_type": "code",
   "execution_count": 8,
   "metadata": {},
   "outputs": [
    {
     "name": "stdout",
     "output_type": "stream",
     "text": [
      " * Serving Flask app \"dashit\" (lazy loading)\n",
      " * Environment: production\n",
      "\u001b[31m   WARNING: This is a development server. Do not use it in a production deployment.\u001b[0m\n",
      "\u001b[2m   Use a production WSGI server instead.\u001b[0m\n",
      " * Debug mode: off\n"
     ]
    },
    {
     "name": "stderr",
     "output_type": "stream",
     "text": [
      " * Running on http://127.0.0.1:8050/ (Press CTRL+C to quit)\n",
      "127.0.0.1 - - [25/Mar/2020 10:58:59] \"\u001b[33mGET / HTTP/1.1\u001b[0m\" 404 -\n",
      "127.0.0.1 - - [25/Mar/2020 10:58:59] \"\u001b[33mGET /favicon.ico HTTP/1.1\u001b[0m\" 404 -\n",
      "127.0.0.1 - - [25/Mar/2020 10:59:04] \"\u001b[32mGET /test HTTP/1.1\u001b[0m\" 308 -\n",
      "127.0.0.1 - - [25/Mar/2020 10:59:04] \"\u001b[37mGET /test/ HTTP/1.1\u001b[0m\" 200 -\n",
      "127.0.0.1 - - [25/Mar/2020 10:59:04] \"\u001b[37mGET /test/_dash-component-suites/dash_renderer/polyfill@7.v1_2_2m1585147947.7.0.min.js HTTP/1.1\u001b[0m\" 200 -\n",
      "127.0.0.1 - - [25/Mar/2020 10:59:04] \"\u001b[37mGET /test/_dash-component-suites/dash_renderer/prop-types@15.v1_2_2m1585147947.7.2.min.js HTTP/1.1\u001b[0m\" 200 -\n",
      "127.0.0.1 - - [25/Mar/2020 10:59:04] \"\u001b[37mGET /test/_dash-component-suites/dash_renderer/react@16.v1_2_2m1585147947.8.6.min.js HTTP/1.1\u001b[0m\" 200 -\n",
      "127.0.0.1 - - [25/Mar/2020 10:59:04] \"\u001b[37mGET /test/_dash-component-suites/dash_core_components/dash_core_components-shared.v1_8_1m1585147947.js HTTP/1.1\u001b[0m\" 200 -\n",
      "127.0.0.1 - - [25/Mar/2020 10:59:04] \"\u001b[37mGET /test/_dash-component-suites/dash_renderer/react-dom@16.v1_2_2m1585147947.8.6.min.js HTTP/1.1\u001b[0m\" 200 -\n",
      "127.0.0.1 - - [25/Mar/2020 10:59:04] \"\u001b[37mGET /test/_dash-component-suites/dash_core_components/dash_core_components.v1_8_1m1585147947.min.js HTTP/1.1\u001b[0m\" 200 -\n",
      "127.0.0.1 - - [25/Mar/2020 10:59:04] \"\u001b[37mGET /test/_dash-component-suites/dash_html_components/dash_html_components.v1_0_2m1585147947.min.js HTTP/1.1\u001b[0m\" 200 -\n",
      "127.0.0.1 - - [25/Mar/2020 10:59:04] \"\u001b[37mGET /test/_dash-component-suites/dash_renderer/dash_renderer.v1_2_2m1585147947.min.js HTTP/1.1\u001b[0m\" 200 -\n",
      "127.0.0.1 - - [25/Mar/2020 10:59:05] \"\u001b[37mGET /test/_dash-layout HTTP/1.1\u001b[0m\" 200 -\n",
      "127.0.0.1 - - [25/Mar/2020 10:59:05] \"\u001b[37mGET /test/_dash-dependencies HTTP/1.1\u001b[0m\" 200 -\n",
      "127.0.0.1 - - [25/Mar/2020 10:59:05] \"\u001b[37mGET /test/_favicon.ico?v=1.9.1 HTTP/1.1\u001b[0m\" 200 -\n",
      "127.0.0.1 - - [25/Mar/2020 10:59:05] \"\u001b[37mGET /test/_dash-component-suites/dash_core_components/async-markdown.v1_8_1m1582838719.js HTTP/1.1\u001b[0m\" 200 -\n",
      "127.0.0.1 - - [25/Mar/2020 10:59:05] \"\u001b[37mGET /test/_dash-component-suites/dash_core_components/async-highlight.v1_8_1m1582838719.js HTTP/1.1\u001b[0m\" 200 -\n",
      "127.0.0.1 - - [25/Mar/2020 10:59:07] \"\u001b[37mGET /test/test/%3Cx%3E HTTP/1.1\u001b[0m\" 200 -\n"
     ]
    },
    {
     "name": "stdout",
     "output_type": "stream",
     "text": [
      "{'x': '<x>'} {}\n"
     ]
    },
    {
     "name": "stderr",
     "output_type": "stream",
     "text": [
      "127.0.0.1 - - [25/Mar/2020 10:59:11] \"\u001b[37mGET /test/test/value HTTP/1.1\u001b[0m\" 200 -\n"
     ]
    },
    {
     "name": "stdout",
     "output_type": "stream",
     "text": [
      "{'x': 'value'} {}\n"
     ]
    },
    {
     "name": "stderr",
     "output_type": "stream",
     "text": [
      "127.0.0.1 - - [25/Mar/2020 10:59:17] \"\u001b[37mGET /test/test/value?help=True HTTP/1.1\u001b[0m\" 200 -\n"
     ]
    },
    {
     "name": "stdout",
     "output_type": "stream",
     "text": [
      "{'x': 'value'} {'help': ['True']}\n"
     ]
    },
    {
     "name": "stderr",
     "output_type": "stream",
     "text": [
      "127.0.0.1 - - [25/Mar/2020 10:59:23] \"\u001b[37mGET /test/test/value?help=False HTTP/1.1\u001b[0m\" 200 -\n"
     ]
    },
    {
     "name": "stdout",
     "output_type": "stream",
     "text": [
      "{'x': 'value'} {'help': ['False']}\n"
     ]
    },
    {
     "name": "stderr",
     "output_type": "stream",
     "text": [
      "127.0.0.1 - - [25/Mar/2020 10:59:26] \"\u001b[37mGET /test/test/value?help=false HTTP/1.1\u001b[0m\" 200 -\n"
     ]
    },
    {
     "name": "stdout",
     "output_type": "stream",
     "text": [
      "{'x': 'value'} {'help': ['false']}\n"
     ]
    }
   ],
   "source": [
    "app.run_server()"
   ]
  },
  {
   "cell_type": "code",
   "execution_count": null,
   "metadata": {},
   "outputs": [],
   "source": []
  }
 ],
 "metadata": {
  "kernelspec": {
   "display_name": "Python 3",
   "language": "python",
   "name": "python3"
  },
  "language_info": {
   "codemirror_mode": {
    "name": "ipython",
    "version": 3
   },
   "file_extension": ".py",
   "mimetype": "text/x-python",
   "name": "python",
   "nbconvert_exporter": "python",
   "pygments_lexer": "ipython3",
   "version": "3.7.5"
  }
 },
 "nbformat": 4,
 "nbformat_minor": 4
}
