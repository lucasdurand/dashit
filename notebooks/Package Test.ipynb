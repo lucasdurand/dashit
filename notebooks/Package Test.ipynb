{
 "cells": [
  {
   "cell_type": "markdown",
   "metadata": {},
   "source": [
    "# TODO:\n",
    "\n",
    "* appname is a misnomer. Should be api `tag` ... or something\n",
    "* work for url_base_pathname != \"/\""
   ]
  },
  {
   "cell_type": "markdown",
   "metadata": {},
   "source": [
    "# Instant API\n",
    "\n",
    "Spin up a flask API *snaps fingers* like that.\n",
    "\n",
    "* Create a flask app\n",
    "* Add /api endpoints to existing flask app\n",
    "* Support enriching a Dash app"
   ]
  },
  {
   "cell_type": "code",
   "execution_count": 1,
   "metadata": {},
   "outputs": [],
   "source": [
    "import os\n",
    "os.chdir(\"../\")"
   ]
  },
  {
   "cell_type": "code",
   "execution_count": 2,
   "metadata": {},
   "outputs": [],
   "source": [
    "import flask\n",
    "app = flask.Flask(__name__)\n",
    "@app.route(\"/\")\n",
    "def landing():\n",
    "    return \"\"\"HEY FRIENDS! Check out my APIs at <a href=\"/api\">/api</a>\"\"\""
   ]
  },
  {
   "cell_type": "code",
   "execution_count": 3,
   "metadata": {},
   "outputs": [],
   "source": [
    "from typing import Dict, Any\n",
    "\n",
    "def test(x:str, y:bool=True, z:Dict[str,Any]={\"a\":1,\"b\":True}, **kwargs):\n",
    "    \"\"\"Very simple test function. Supply x for fun and optionally use help for help!\"\"\"\n",
    "    #print(args[0].__name__)\n",
    "    help = kwargs.pop(\"help\",\"\")\n",
    "    return f\"\"\"fun {x} {y} {z.items()}{f\"help! {help}\" if help else \"\"}\"\"\"\n",
    "\n",
    "def just_the_one(x):\n",
    "    return x\n",
    "\n",
    "\n",
    "def named_int(x=1):\n",
    "    return str(x)"
   ]
  },
  {
   "cell_type": "code",
   "execution_count": 4,
   "metadata": {},
   "outputs": [
    {
     "name": "stdout",
     "output_type": "stream",
     "text": [
      "{} (1,) [] ['x']\n",
      "{'x': <class 'str'>, 'y': <class 'bool'>, 'z': typing.Dict[str, typing.Any]} (True, {'a': 1, 'b': True}) ['x'] ['y', 'z']\n",
      "{} None ['x'] ['x']\n",
      "Swagger at: swagger\n",
      "Map([<Rule '/api/titanic/named_int/' (HEAD, OPTIONS, GET) -> instantapi-titanic.named_int/>,\n",
      " <Rule '/api/swagger/' (HEAD, OPTIONS, GET) -> instantapi-.serve_swagger_spec>,\n",
      " <Rule '/api/' (HEAD, OPTIONS, GET) -> instantapi-.serve_swagger_ui>,\n",
      " <Rule '/' (HEAD, OPTIONS, GET) -> landing>,\n",
      " <Rule '/api/titanic/just_the_one/<x>' (HEAD, OPTIONS, GET) -> instantapi-titanic.just_the_one/<x>>,\n",
      " <Rule '/api/titanic/test/<x>' (HEAD, OPTIONS, GET) -> instantapi-titanic.test/<x>>,\n",
      " <Rule '/static/<filename>' (HEAD, OPTIONS, GET) -> static>])\n"
     ]
    }
   ],
   "source": [
    "import instantapi\n",
    "app, spec = instantapi.api.flaskit([named_int, test, just_the_one], appname=\"titanic\", app=app)"
   ]
  },
  {
   "cell_type": "code",
   "execution_count": 5,
   "metadata": {},
   "outputs": [
    {
     "name": "stdout",
     "output_type": "stream",
     "text": [
      "{} (1,) [] ['x']\n",
      "Swagger at: swagger\n",
      "Map([<Rule '/api/titanic/named_int/' (HEAD, OPTIONS, GET) -> instantapi-titanic.named_int/>,\n",
      " <Rule '/api/another/named_int/' (HEAD, OPTIONS, GET) -> instantapi-another.named_int/>,\n",
      " <Rule '/api/swagger/' (HEAD, OPTIONS, GET) -> instantapi-.serve_swagger_spec>,\n",
      " <Rule '/api/' (HEAD, OPTIONS, GET) -> instantapi-.serve_swagger_ui>,\n",
      " <Rule '/' (HEAD, OPTIONS, GET) -> landing>,\n",
      " <Rule '/api/titanic/just_the_one/<x>' (HEAD, OPTIONS, GET) -> instantapi-titanic.just_the_one/<x>>,\n",
      " <Rule '/api/titanic/test/<x>' (HEAD, OPTIONS, GET) -> instantapi-titanic.test/<x>>,\n",
      " <Rule '/static/<filename>' (HEAD, OPTIONS, GET) -> static>])\n"
     ]
    }
   ],
   "source": [
    "app, spec = instantapi.api.flaskit([named_int], appname=\"another\", app=app, spec=spec)"
   ]
  },
  {
   "cell_type": "code",
   "execution_count": 6,
   "metadata": {},
   "outputs": [
    {
     "data": {
      "text/plain": [
       "'/api/titanic/test/1'"
      ]
     },
     "execution_count": 6,
     "metadata": {},
     "output_type": "execute_result"
    }
   ],
   "source": [
    "test.url(1)"
   ]
  },
  {
   "cell_type": "code",
   "execution_count": 7,
   "metadata": {},
   "outputs": [
    {
     "data": {
      "text/plain": [
       "'test/<x>'"
      ]
     },
     "execution_count": 7,
     "metadata": {},
     "output_type": "execute_result"
    }
   ],
   "source": [
    "test.rule"
   ]
  },
  {
   "cell_type": "code",
   "execution_count": 27,
   "metadata": {},
   "outputs": [
    {
     "data": {
      "text/plain": [
       "'/api/samples/named_int/?x=\"sdf\"'"
      ]
     },
     "execution_count": 27,
     "metadata": {},
     "output_type": "execute_result"
    }
   ],
   "source": [
    "named_int.url(\"sdf\")"
   ]
  },
  {
   "cell_type": "code",
   "execution_count": 7,
   "metadata": {},
   "outputs": [
    {
     "name": "stdout",
     "output_type": "stream",
     "text": [
      " * Serving Flask app \"__main__\" (lazy loading)\n",
      " * Environment: production\n",
      "\u001b[31m   WARNING: This is a development server. Do not use it in a production deployment.\u001b[0m\n",
      "\u001b[2m   Use a production WSGI server instead.\u001b[0m\n",
      " * Debug mode: off\n"
     ]
    },
    {
     "name": "stderr",
     "output_type": "stream",
     "text": [
      " * Running on http://127.0.0.1:5000/ (Press CTRL+C to quit)\n"
     ]
    }
   ],
   "source": [
    "app.run()"
   ]
  },
  {
   "cell_type": "markdown",
   "metadata": {},
   "source": [
    "# Dash !"
   ]
  },
  {
   "cell_type": "code",
   "execution_count": 4,
   "metadata": {},
   "outputs": [],
   "source": [
    "import dash\n",
    "import dash_html_components as html"
   ]
  },
  {
   "cell_type": "code",
   "execution_count": 5,
   "metadata": {},
   "outputs": [],
   "source": [
    "app = dash.Dash(__name__, url_base_pathname=\"/test/\")\n",
    "app.layout = html.Div([\"Check out my APIs at: \",html.A(\"/api\", href=\"/api\")])"
   ]
  },
  {
   "cell_type": "code",
   "execution_count": 6,
   "metadata": {},
   "outputs": [
    {
     "name": "stdout",
     "output_type": "stream",
     "text": [
      "{} (1,) [] ['x']\n",
      "{'x': <class 'str'>, 'y': <class 'bool'>, 'z': typing.Dict[str, typing.Any]} (True, {'a': 1, 'b': True}) ['x'] ['y', 'z']\n",
      "Swagger at: swagger\n",
      "Map([<Rule '/api/samples/named_int/' (HEAD, GET, OPTIONS) -> instantapi-samples.named_int/>,\n",
      " <Rule '/test/_dash-update-component' (OPTIONS, POST) -> /test/_dash-update-component>,\n",
      " <Rule '/test/_dash-dependencies' (HEAD, GET, OPTIONS) -> /test/_dash-dependencies>,\n",
      " <Rule '/test/_dash-layout' (HEAD, GET, OPTIONS) -> /test/_dash-layout>,\n",
      " <Rule '/test/_dash-routes' (HEAD, GET, OPTIONS) -> /test/_dash-routes>,\n",
      " <Rule '/test/_reload-hash' (HEAD, GET, OPTIONS) -> /test/_reload-hash>,\n",
      " <Rule '/test/_favicon.ico' (HEAD, GET, OPTIONS) -> /test/_favicon.ico>,\n",
      " <Rule '/api/swagger/' (HEAD, GET, OPTIONS) -> instantapi-.serve_swagger_spec>,\n",
      " <Rule '/test/' (HEAD, GET, OPTIONS) -> /test/>,\n",
      " <Rule '/api/' (HEAD, GET, OPTIONS) -> instantapi-.serve_swagger_ui>,\n",
      " <Rule '/api/samples/test/<x>' (HEAD, GET, OPTIONS) -> instantapi-samples.test/<x>>,\n",
      " <Rule '/test/_dash-component-suites/<package_name>/<path_in_package_dist>' (HEAD, GET, OPTIONS) -> /test/_dash-component-suites/<string:package_name>/<path:path_in_package_dist>>,\n",
      " <Rule '/test/assets/<filename>' (HEAD, GET, OPTIONS) -> _test_dash_assets.static>,\n",
      " <Rule '/static/<filename>' (HEAD, GET, OPTIONS) -> static>,\n",
      " <Rule '/test/<path>' (HEAD, GET, OPTIONS) -> /test/<path:path>>])\n",
      "Map([<Rule '/api/samples/named_int/' (HEAD, GET, OPTIONS) -> instantapi-samples.named_int/>,\n",
      " <Rule '/test/_dash-update-component' (OPTIONS, POST) -> /test/_dash-update-component>,\n",
      " <Rule '/test/_dash-dependencies' (HEAD, GET, OPTIONS) -> /test/_dash-dependencies>,\n",
      " <Rule '/test/_dash-layout' (HEAD, GET, OPTIONS) -> /test/_dash-layout>,\n",
      " <Rule '/test/_dash-routes' (HEAD, GET, OPTIONS) -> /test/_dash-routes>,\n",
      " <Rule '/test/_reload-hash' (HEAD, GET, OPTIONS) -> /test/_reload-hash>,\n",
      " <Rule '/test/_favicon.ico' (HEAD, GET, OPTIONS) -> /test/_favicon.ico>,\n",
      " <Rule '/api/swagger/' (HEAD, GET, OPTIONS) -> instantapi-.serve_swagger_spec>,\n",
      " <Rule '/test/' (HEAD, GET, OPTIONS) -> /test/>,\n",
      " <Rule '/api/' (HEAD, GET, OPTIONS) -> instantapi-.serve_swagger_ui>,\n",
      " <Rule '/api/samples/test/<x>' (HEAD, GET, OPTIONS) -> instantapi-samples.test/<x>>,\n",
      " <Rule '/test/_dash-component-suites/<package_name>/<path_in_package_dist>' (HEAD, GET, OPTIONS) -> /test/_dash-component-suites/<string:package_name>/<path:path_in_package_dist>>,\n",
      " <Rule '/test/assets/<filename>' (HEAD, GET, OPTIONS) -> _test_dash_assets.static>,\n",
      " <Rule '/static/<filename>' (HEAD, GET, OPTIONS) -> static>,\n",
      " <Rule '/test/<path>' (HEAD, GET, OPTIONS) -> /test/<path:path>>])\n"
     ]
    }
   ],
   "source": [
    "import instantapi\n",
    "app, spec = instantapi.api.dashit([named_int, test], appname=\"samples\", app=app)"
   ]
  },
  {
   "cell_type": "code",
   "execution_count": 24,
   "metadata": {},
   "outputs": [
    {
     "name": "stdout",
     "output_type": "stream",
     "text": [
      "{} (1,) [] ['x']\n",
      "{'x': <class 'str'>, 'y': <class 'bool'>, 'z': typing.Dict[str, typing.Any]} (True, {'a': 1, 'b': True}) ['x'] ['y', 'z']\n",
      "Swagger at: swagger\n",
      "Map([<Rule '/api/samples/named_int/' (GET, OPTIONS, HEAD) -> instantapi-samples.named_int/>,\n",
      " <Rule '/test/_dash-update-component' (OPTIONS, POST) -> /test/_dash-update-component>,\n",
      " <Rule '/test/_dash-dependencies' (GET, OPTIONS, HEAD) -> /test/_dash-dependencies>,\n",
      " <Rule '/test/_dash-layout' (GET, OPTIONS, HEAD) -> /test/_dash-layout>,\n",
      " <Rule '/test/_dash-routes' (GET, OPTIONS, HEAD) -> /test/_dash-routes>,\n",
      " <Rule '/test/_reload-hash' (GET, OPTIONS, HEAD) -> /test/_reload-hash>,\n",
      " <Rule '/test/_favicon.ico' (GET, OPTIONS, HEAD) -> /test/_favicon.ico>,\n",
      " <Rule '/api/swagger/' (GET, OPTIONS, HEAD) -> instantapi-.serve_swagger_spec>,\n",
      " <Rule '/test/' (GET, OPTIONS, HEAD) -> /test/>,\n",
      " <Rule '/api/' (GET, OPTIONS, HEAD) -> instantapi-.serve_swagger_ui>,\n",
      " <Rule '/api/samples/test/<x>' (GET, OPTIONS, HEAD) -> instantapi-samples.test/<x>>,\n",
      " <Rule '/test/_dash-component-suites/<package_name>/<path_in_package_dist>' (GET, OPTIONS, HEAD) -> /test/_dash-component-suites/<string:package_name>/<path:path_in_package_dist>>,\n",
      " <Rule '/test/assets/<filename>' (GET, OPTIONS, HEAD) -> _test_dash_assets.static>,\n",
      " <Rule '/static/<filename>' (GET, OPTIONS, HEAD) -> static>,\n",
      " <Rule '/test/<path>' (GET, OPTIONS, HEAD) -> /test/<path:path>>])\n"
     ]
    }
   ],
   "source": [
    "import instantapi\n",
    "app.server, spec = instantapi.api.flaskit([named_int, test], appname=\"samples\", app=app.server)"
   ]
  },
  {
   "cell_type": "code",
   "execution_count": 25,
   "metadata": {},
   "outputs": [
    {
     "name": "stdout",
     "output_type": "stream",
     "text": [
      "{} None ['x'] ['x']\n",
      "Swagger at: swagger\n",
      "Map([<Rule '/api/samples/named_int/' (GET, OPTIONS, HEAD) -> instantapi-samples.named_int/>,\n",
      " <Rule '/test/_dash-update-component' (OPTIONS, POST) -> /test/_dash-update-component>,\n",
      " <Rule '/test/_dash-dependencies' (GET, OPTIONS, HEAD) -> /test/_dash-dependencies>,\n",
      " <Rule '/test/_dash-layout' (GET, OPTIONS, HEAD) -> /test/_dash-layout>,\n",
      " <Rule '/test/_dash-routes' (GET, OPTIONS, HEAD) -> /test/_dash-routes>,\n",
      " <Rule '/test/_reload-hash' (GET, OPTIONS, HEAD) -> /test/_reload-hash>,\n",
      " <Rule '/test/_favicon.ico' (GET, OPTIONS, HEAD) -> /test/_favicon.ico>,\n",
      " <Rule '/api/swagger/' (GET, OPTIONS, HEAD) -> instantapi-.serve_swagger_spec>,\n",
      " <Rule '/test/' (GET, OPTIONS, HEAD) -> /test/>,\n",
      " <Rule '/api/' (GET, OPTIONS, HEAD) -> instantapi-.serve_swagger_ui>,\n",
      " <Rule '/api/another/just_the_one/<x>' (GET, OPTIONS, HEAD) -> instantapi-another.just_the_one/<x>>,\n",
      " <Rule '/api/samples/test/<x>' (GET, OPTIONS, HEAD) -> instantapi-samples.test/<x>>,\n",
      " <Rule '/test/_dash-component-suites/<package_name>/<path_in_package_dist>' (GET, OPTIONS, HEAD) -> /test/_dash-component-suites/<string:package_name>/<path:path_in_package_dist>>,\n",
      " <Rule '/test/assets/<filename>' (GET, OPTIONS, HEAD) -> _test_dash_assets.static>,\n",
      " <Rule '/static/<filename>' (GET, OPTIONS, HEAD) -> static>,\n",
      " <Rule '/test/<path>' (GET, OPTIONS, HEAD) -> /test/<path:path>>])\n"
     ]
    }
   ],
   "source": [
    "app.server, spec = instantapi.api.flaskit([just_the_one], appname=\"another\", app=app.server, spec=spec)"
   ]
  },
  {
   "cell_type": "code",
   "execution_count": null,
   "metadata": {},
   "outputs": [
    {
     "name": "stdout",
     "output_type": "stream",
     "text": [
      " * Serving Flask app \"__main__\" (lazy loading)\n",
      " * Environment: production\n",
      "\u001b[31m   WARNING: This is a development server. Do not use it in a production deployment.\u001b[0m\n",
      "\u001b[2m   Use a production WSGI server instead.\u001b[0m\n",
      " * Debug mode: off\n"
     ]
    },
    {
     "name": "stderr",
     "output_type": "stream",
     "text": [
      " * Running on http://127.0.0.1:5000/ (Press CTRL+C to quit)\n",
      "127.0.0.1 - - [06/Apr/2020 17:07:09] \"\u001b[37mGET /api/ HTTP/1.1\u001b[0m\" 200 -\n",
      "127.0.0.1 - - [06/Apr/2020 17:07:10] \"\u001b[37mGET /api/swagger/ HTTP/1.1\u001b[0m\" 200 -\n",
      "127.0.0.1 - - [06/Apr/2020 17:07:12] \"\u001b[37mGET /test/1 HTTP/1.1\u001b[0m\" 200 -\n",
      "127.0.0.1 - - [06/Apr/2020 17:07:12] \"\u001b[37mGET /test/_dash-layout HTTP/1.1\u001b[0m\" 200 -\n",
      "127.0.0.1 - - [06/Apr/2020 17:07:12] \"\u001b[37mGET /test/_dash-dependencies HTTP/1.1\u001b[0m\" 200 -\n",
      "127.0.0.1 - - [06/Apr/2020 17:07:13] \"\u001b[37mGET /test/ HTTP/1.1\u001b[0m\" 200 -\n",
      "127.0.0.1 - - [06/Apr/2020 17:07:14] \"\u001b[37mGET /test/_dash-layout HTTP/1.1\u001b[0m\" 200 -\n",
      "127.0.0.1 - - [06/Apr/2020 17:07:14] \"\u001b[37mGET /test/_dash-dependencies HTTP/1.1\u001b[0m\" 200 -\n",
      "127.0.0.1 - - [06/Apr/2020 17:07:17] \"\u001b[37mGET /api/ HTTP/1.1\u001b[0m\" 200 -\n",
      "127.0.0.1 - - [06/Apr/2020 17:07:18] \"\u001b[37mGET /api/swagger/ HTTP/1.1\u001b[0m\" 200 -\n"
     ]
    }
   ],
   "source": [
    "app.run_server(port=5000)"
   ]
  }
 ],
 "metadata": {
  "kernelspec": {
   "display_name": "Python 3",
   "language": "python",
   "name": "python3"
  },
  "language_info": {
   "codemirror_mode": {
    "name": "ipython",
    "version": 3
   },
   "file_extension": ".py",
   "mimetype": "text/x-python",
   "name": "python",
   "nbconvert_exporter": "python",
   "pygments_lexer": "ipython3",
   "version": "3.7.5"
  }
 },
 "nbformat": 4,
 "nbformat_minor": 4
}
