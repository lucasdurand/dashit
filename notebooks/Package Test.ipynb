{
 "cells": [
  {
   "cell_type": "code",
   "execution_count": 1,
   "metadata": {},
   "outputs": [],
   "source": [
    "import os\n",
    "os.chdir(\"../\")"
   ]
  },
  {
   "cell_type": "code",
   "execution_count": 2,
   "metadata": {},
   "outputs": [],
   "source": [
    "from typing import Dict, Any\n",
    "\n",
    "def test(x:str, y:bool=True, z:Dict[str,Any]={\"a\":1,\"b\":True}, **kwargs):\n",
    "    \"\"\"Very simple test function. Supply x for fun and optionally use help for help!\"\"\"\n",
    "    #print(args[0].__name__)\n",
    "    help = kwargs.pop(\"help\",\"\")\n",
    "    return f\"\"\"fun {x} {y} {z.items()}{f\"help! {help}\" if help else \"\"}\"\"\"\n",
    "\n",
    "def just_the_one(x):\n",
    "    return x\n",
    "\n",
    "\n",
    "def named_int(x=1):\n",
    "    return str(x)"
   ]
  },
  {
   "cell_type": "code",
   "execution_count": 3,
   "metadata": {},
   "outputs": [
    {
     "name": "stdout",
     "output_type": "stream",
     "text": [
      "{} (1,) [] ['x']\n",
      "{'x': <class 'str'>, 'y': <class 'bool'>, 'z': typing.Dict[str, typing.Any]} (True, {'a': 1, 'b': True}) ['x'] ['y', 'z']\n",
      "{} None ['x'] ['x']\n",
      "Swagger at: /swagger\n",
      "['/named_int', '/test/<x>', '/just_the_one/<x>']\n"
     ]
    }
   ],
   "source": [
    "import dashit\n",
    "app = dashit.dashit.flaskit([named_int, test, just_the_one], appname= \"titanic\")"
   ]
  },
  {
   "cell_type": "code",
   "execution_count": null,
   "metadata": {},
   "outputs": [
    {
     "name": "stdout",
     "output_type": "stream",
     "text": [
      " * Serving Flask app \"dashit.dashit\" (lazy loading)\n",
      " * Environment: production\n",
      "\u001b[31m   WARNING: This is a development server. Do not use it in a production deployment.\u001b[0m\n",
      "\u001b[2m   Use a production WSGI server instead.\u001b[0m\n",
      " * Debug mode: off\n"
     ]
    },
    {
     "name": "stderr",
     "output_type": "stream",
     "text": [
      " * Running on http://127.0.0.1:5000/ (Press CTRL+C to quit)\n",
      "127.0.0.1 - - [04/Apr/2020 19:57:06] \"\u001b[37mGET /swagger_ui HTTP/1.1\u001b[0m\" 200 -\n",
      "127.0.0.1 - - [04/Apr/2020 19:57:06] \"\u001b[37mGET /swagger HTTP/1.1\u001b[0m\" 200 -\n",
      "127.0.0.1 - - [04/Apr/2020 19:57:06] \"\u001b[33mGET /favicon.ico HTTP/1.1\u001b[0m\" 404 -\n",
      "127.0.0.1 - - [04/Apr/2020 19:57:15] \"\u001b[37mGET /just_the_one/%7B1%3A%21%7D HTTP/1.1\u001b[0m\" 200 -\n"
     ]
    },
    {
     "name": "stdout",
     "output_type": "stream",
     "text": [
      "{'x': '{1:!}'}\n",
      "{'x': '{1:!}'}\n"
     ]
    },
    {
     "name": "stderr",
     "output_type": "stream",
     "text": [
      "127.0.0.1 - - [04/Apr/2020 19:57:25] \"\u001b[37mGET /just_the_one/%7B1%3Atrue%7D HTTP/1.1\u001b[0m\" 200 -\n"
     ]
    },
    {
     "name": "stdout",
     "output_type": "stream",
     "text": [
      "{'x': '{1:true}'}\n",
      "{'x': '{1:true}'}\n"
     ]
    },
    {
     "name": "stderr",
     "output_type": "stream",
     "text": [
      "127.0.0.1 - - [04/Apr/2020 19:57:37] \"\u001b[37mGET /just_the_one/%7B%22A%22%3Atrue%2C%20%22B%22%3Anull%7D HTTP/1.1\u001b[0m\" 200 -\n"
     ]
    },
    {
     "name": "stdout",
     "output_type": "stream",
     "text": [
      "{'x': '{\"A\":true, \"B\":null}'}\n",
      "{'x': {'A': True, 'B': None}}\n"
     ]
    },
    {
     "name": "stderr",
     "output_type": "stream",
     "text": [
      "127.0.0.1 - - [04/Apr/2020 19:57:38] \"\u001b[37mGET /just_the_one/%7B%22A%22%3Atrue%2C%20%22B%22%3Anull%7D HTTP/1.1\u001b[0m\" 200 -\n"
     ]
    },
    {
     "name": "stdout",
     "output_type": "stream",
     "text": [
      "{'x': '{\"A\":true, \"B\":null}'}\n",
      "{'x': {'A': True, 'B': None}}\n"
     ]
    }
   ],
   "source": [
    "app.run()"
   ]
  },
  {
   "cell_type": "code",
   "execution_count": null,
   "metadata": {},
   "outputs": [],
   "source": [
    "import inspect\n",
    "type(inspect.getfullargspec(named_int).defaults[0])"
   ]
  },
  {
   "cell_type": "code",
   "execution_count": null,
   "metadata": {},
   "outputs": [],
   "source": [
    "spec.path(path=\"/this/test\", operations= {\"get\": {\n",
    "                    \"responses\": {\n",
    "                        \"200\": {}}}},\n",
    "    summary=\"THIS IS FOR EVERYTHING\", description=\"descript\", \n",
    "          parameters=[{\"in\":\"query\", \"name\":\"this\",\"schema\":{\"type\":\"Jibba jabba\", \"default\":10}},\n",
    "                     {\"in\":\"query\", \"name\":\"that\",\"schema\":{\"type\":\"Jibba jabba\", },\"required\":True}])"
   ]
  },
  {
   "cell_type": "code",
   "execution_count": null,
   "metadata": {},
   "outputs": [],
   "source": [
    "spec = dashit.swagger.create_apispec(\"Test\")"
   ]
  },
  {
   "cell_type": "code",
   "execution_count": null,
   "metadata": {},
   "outputs": [],
   "source": [
    "def swagger_path()"
   ]
  },
  {
   "cell_type": "code",
   "execution_count": null,
   "metadata": {
    "scrolled": false
   },
   "outputs": [],
   "source": [
    "app = dashit.swagger.register_swagger_endpoints(app, spec)"
   ]
  },
  {
   "cell_type": "code",
   "execution_count": null,
   "metadata": {},
   "outputs": [],
   "source": [
    "app.run()"
   ]
  },
  {
   "cell_type": "code",
   "execution_count": null,
   "metadata": {},
   "outputs": [],
   "source": [
    "with app.test_request_context():\n",
    "    spec.path(view=app.view_functions[\"test\"])"
   ]
  },
  {
   "cell_type": "code",
   "execution_count": null,
   "metadata": {},
   "outputs": [],
   "source": [
    "app.url_map"
   ]
  },
  {
   "cell_type": "code",
   "execution_count": null,
   "metadata": {},
   "outputs": [],
   "source": [
    "app.view_functions"
   ]
  },
  {
   "cell_type": "code",
   "execution_count": null,
   "metadata": {},
   "outputs": [],
   "source": [
    "app.run()"
   ]
  },
  {
   "cell_type": "code",
   "execution_count": null,
   "metadata": {},
   "outputs": [],
   "source": [
    "import dashit\n",
    "spec = dashit.swagger.create_apispec(\"MY Best Works\")\n",
    "app = dashit.dashit.dashit([test], \"test\")\n",
    "print(app.config)\n",
    "dashit.swagger.register_function_specs(app, spec)\n",
    "dashit.swagger.register_swagger_endpoints(app, spec)"
   ]
  },
  {
   "cell_type": "code",
   "execution_count": null,
   "metadata": {},
   "outputs": [],
   "source": [
    "import flask\n",
    "app = flask.Flask(__name__)"
   ]
  },
  {
   "cell_type": "code",
   "execution_count": null,
   "metadata": {},
   "outputs": [],
   "source": [
    "app.run_server()"
   ]
  },
  {
   "cell_type": "code",
   "execution_count": null,
   "metadata": {},
   "outputs": [],
   "source": [
    "from typing import Dict, Union, Optional, Callable, Mapping"
   ]
  },
  {
   "cell_type": "code",
   "execution_count": null,
   "metadata": {},
   "outputs": [],
   "source": [
    "dtype = Union[Dict[str, str], str]\n",
    "dtype = Mapping[str, str]\n",
    "#dtype = Optional[Dict[str, str]]\n",
    "#dtype = Dict[str,Dict[str,bool]]"
   ]
  },
  {
   "cell_type": "code",
   "execution_count": null,
   "metadata": {},
   "outputs": [],
   "source": [
    "dtype._inst"
   ]
  },
  {
   "cell_type": "code",
   "execution_count": null,
   "metadata": {},
   "outputs": [],
   "source": [
    "dtype._special"
   ]
  },
  {
   "cell_type": "code",
   "execution_count": null,
   "metadata": {},
   "outputs": [],
   "source": [
    "dtype._name"
   ]
  },
  {
   "cell_type": "code",
   "execution_count": null,
   "metadata": {},
   "outputs": [],
   "source": [
    "None in {}"
   ]
  },
  {
   "cell_type": "code",
   "execution_count": null,
   "metadata": {},
   "outputs": [],
   "source": [
    "dtype.__origin__"
   ]
  },
  {
   "cell_type": "code",
   "execution_count": null,
   "metadata": {},
   "outputs": [],
   "source": [
    "dtype.__args__"
   ]
  }
 ],
 "metadata": {
  "kernelspec": {
   "display_name": "Python 3",
   "language": "python",
   "name": "python3"
  },
  "language_info": {
   "codemirror_mode": {
    "name": "ipython",
    "version": 3
   },
   "file_extension": ".py",
   "mimetype": "text/x-python",
   "name": "python",
   "nbconvert_exporter": "python",
   "pygments_lexer": "ipython3",
   "version": "3.7.5"
  }
 },
 "nbformat": 4,
 "nbformat_minor": 4
}
