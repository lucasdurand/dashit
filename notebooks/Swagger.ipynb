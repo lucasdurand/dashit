{
 "cells": [
  {
   "cell_type": "code",
   "execution_count": 63,
   "metadata": {
    "scrolled": false
   },
   "outputs": [],
   "source": [
    "import uuid\n",
    "\n",
    "from apispec import APISpec\n",
    "from apispec_webframeworks.flask import FlaskPlugin\n",
    "from flask import Flask\n",
    "\n",
    "\n",
    "# Create an APISpec\n",
    "spec = APISpec(\n",
    "    title=\"Swagger Petstore\",\n",
    "    version=\"1.0.0\",\n",
    "    openapi_version=\"3.0.2\",\n",
    "    plugins=[FlaskPlugin()],\n",
    ")\n",
    "\n",
    "\n",
    "# Optional Flask support\n",
    "app = Flask(__name__)\n",
    "\n",
    "\n",
    "@app.route(\"/random\")\n",
    "def random_animal():\n",
    "    \"\"\" Cool Foo-Bar route.\n",
    "    ---\n",
    "    get:\n",
    "        summary: Foo-Bar endpoint.\n",
    "        description: Get a single foo with the bar ID.\n",
    "        parameters:\n",
    "            - name: bar_id\n",
    "              in: path\n",
    "              description: Bar ID\n",
    "              schema:\n",
    "                  type: python Dict[str,Any]\n",
    "                  required: true\n",
    "            - name: aggFunc\n",
    "              in: query\n",
    "              description: The funcs arfe gging\n",
    "              schema:\n",
    "                  type: string\n",
    "              default: empty\n",
    "            - name: test\n",
    "              schema:\n",
    "                  type: custom\n",
    "              in: query\n",
    "              description: this is just a test\n",
    "        responses:\n",
    "            200:\n",
    "                description: Foo object to be returned.\n",
    "                schema: FooSchema\n",
    "            404:\n",
    "                description: Foo not found.\n",
    "    \"\"\"\n",
    "    # Hardcoded example data\n",
    "    pet_data = {\n",
    "        \"name\": \"sample_pet_\" + str(uuid.uuid1()),\n",
    "        \"categories\": [{\"id\": 1, \"name\": \"sample_category\"}],\n",
    "    }\n",
    "    return pet_data\n",
    "\n",
    "\n",
    "@app.route(\"/person\")\n",
    "def random_person():\n",
    "    \"\"\" Cool Foo-Bar route.\n",
    "    ---\n",
    "    get:\n",
    "        summary: Foo-Bar endpoint.\n",
    "        description: Get a single foo with the bar ID.\n",
    "        parameters:\n",
    "            - in: query\n",
    "              name: offset\n",
    "              schema:\n",
    "                type: integer\n",
    "              description: The number of items to skip before starting to collect the result set\n",
    "            - in: query\n",
    "              name: limit\n",
    "              schema:\n",
    "                type: integer\n",
    "              description: The numbers of items to return\n",
    "    \"\"\"\n",
    "    return {\"message\":\"this\"}\n",
    "# Register the path and the entities within it\n",
    "with app.test_request_context():\n",
    "    spec.path(view=random_animal)\n",
    "    spec.path(view=random_person)"
   ]
  },
  {
   "cell_type": "code",
   "execution_count": 64,
   "metadata": {},
   "outputs": [],
   "source": [
    "swagger_ui = \"\"\"<!DOCTYPE html>\n",
    "<html>\n",
    "  <head>\n",
    "    <title>Swagger</title>\n",
    "    <meta charset=\"utf-8\"/>\n",
    "    <meta name=\"viewport\" content=\"width=device-width, initial-scale=1\">\n",
    "    <link rel=\"stylesheet\" type=\"text/css\" href=\"//unpkg.com/swagger-ui-dist@3/swagger-ui.css\" />\n",
    "  </head>\n",
    "  <body>\n",
    "    <div id=\"swagger-ui\"></div>\n",
    "    <script src=\"//unpkg.com/swagger-ui-dist@3/swagger-ui-bundle.js\"></script>\n",
    "    <script>\n",
    "    const ui = SwaggerUIBundle({\n",
    "        url: \"/swagger\",\n",
    "        dom_id: '#swagger-ui',\n",
    "        presets: [\n",
    "          SwaggerUIBundle.presets.apis,\n",
    "          SwaggerUIBundle.SwaggerUIStandalonePreset\n",
    "        ],\n",
    "        layout: \"BaseLayout\",\n",
    "        requestInterceptor: (request) => {\n",
    "          request.headers['X-CSRFToken'] = \"{{ csrf_token }}\"\n",
    "          return request;\n",
    "        }\n",
    "      })\n",
    "    </script>\n",
    "  </body>\n",
    "</html>\"\"\"\n",
    "\n",
    "@app.route(\"/\")\n",
    "def read_swagger():\n",
    "    return swagger_ui\n",
    "\n",
    "\n",
    "import json\n",
    "@app.route(\"/swagger\")\n",
    "def serve_swagger():\n",
    "    return json.dumps(spec.to_dict())"
   ]
  },
  {
   "cell_type": "code",
   "execution_count": 65,
   "metadata": {
    "scrolled": false
   },
   "outputs": [
    {
     "name": "stdout",
     "output_type": "stream",
     "text": [
      " * Serving Flask app \"__main__\" (lazy loading)\n",
      " * Environment: production\n",
      "\u001b[31m   WARNING: This is a development server. Do not use it in a production deployment.\u001b[0m\n",
      "\u001b[2m   Use a production WSGI server instead.\u001b[0m\n",
      " * Debug mode: off\n"
     ]
    },
    {
     "name": "stderr",
     "output_type": "stream",
     "text": [
      " * Running on http://127.0.0.1:5000/ (Press CTRL+C to quit)\n",
      "127.0.0.1 - - [29/Mar/2020 21:01:08] \"\u001b[37mGET / HTTP/1.1\u001b[0m\" 200 -\n",
      "127.0.0.1 - - [29/Mar/2020 21:01:08] \"\u001b[37mGET /swagger HTTP/1.1\u001b[0m\" 200 -\n"
     ]
    }
   ],
   "source": [
    "app.run()"
   ]
  },
  {
   "cell_type": "code",
   "execution_count": null,
   "metadata": {},
   "outputs": [],
   "source": []
  }
 ],
 "metadata": {
  "kernelspec": {
   "display_name": "Python 3",
   "language": "python",
   "name": "python3"
  },
  "language_info": {
   "codemirror_mode": {
    "name": "ipython",
    "version": 3
   },
   "file_extension": ".py",
   "mimetype": "text/x-python",
   "name": "python",
   "nbconvert_exporter": "python",
   "pygments_lexer": "ipython3",
   "version": "3.7.5"
  }
 },
 "nbformat": 4,
 "nbformat_minor": 4
}
