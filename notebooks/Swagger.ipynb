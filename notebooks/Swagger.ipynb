{
 "cells": [
  {
   "cell_type": "code",
   "execution_count": 11,
   "metadata": {},
   "outputs": [],
   "source": [
    "import json"
   ]
  },
  {
   "cell_type": "code",
   "execution_count": 30,
   "metadata": {},
   "outputs": [],
   "source": [
    "import inspect"
   ]
  },
  {
   "cell_type": "code",
   "execution_count": 35,
   "metadata": {},
   "outputs": [],
   "source": [
    "from typing import Dict, Any"
   ]
  },
  {
   "cell_type": "code",
   "execution_count": 41,
   "metadata": {},
   "outputs": [],
   "source": [
    "def that():\n",
    "    return\n",
    "def this(x, y=2, z:str=3, w:Dict[str,Any]=10):\n",
    "    return "
   ]
  },
  {
   "cell_type": "code",
   "execution_count": 39,
   "metadata": {},
   "outputs": [
    {
     "data": {
      "text/plain": [
       "{'z': str, 'w': typing.Dict[str, typing.Any]}"
      ]
     },
     "execution_count": 39,
     "metadata": {},
     "output_type": "execute_result"
    }
   ],
   "source": [
    "inspect.getfullargspec(this).annotations"
   ]
  },
  {
   "cell_type": "code",
   "execution_count": 42,
   "metadata": {},
   "outputs": [
    {
     "data": {
      "text/plain": [
       "{}"
      ]
     },
     "execution_count": 42,
     "metadata": {},
     "output_type": "execute_result"
    }
   ],
   "source": [
    "inspect.getfullargspec(that).annotations"
   ]
  },
  {
   "cell_type": "code",
   "execution_count": 40,
   "metadata": {},
   "outputs": [
    {
     "ename": "AttributeError",
     "evalue": "'FullArgSpec' object has no attribute 'get'",
     "output_type": "error",
     "traceback": [
      "\u001b[0;31m---------------------------------------------------------------------------\u001b[0m",
      "\u001b[0;31mAttributeError\u001b[0m                            Traceback (most recent call last)",
      "\u001b[0;32m<ipython-input-40-bba473d542f1>\u001b[0m in \u001b[0;36m<module>\u001b[0;34m\u001b[0m\n\u001b[0;32m----> 1\u001b[0;31m \u001b[0minspect\u001b[0m\u001b[0;34m.\u001b[0m\u001b[0mgetfullargspec\u001b[0m\u001b[0;34m(\u001b[0m\u001b[0mthis\u001b[0m\u001b[0;34m)\u001b[0m\u001b[0;34m.\u001b[0m\u001b[0mget\u001b[0m\u001b[0;34m(\u001b[0m\u001b[0;34m\"annotations\"\u001b[0m\u001b[0;34m)\u001b[0m\u001b[0;34m\u001b[0m\u001b[0;34m\u001b[0m\u001b[0m\n\u001b[0m",
      "\u001b[0;31mAttributeError\u001b[0m: 'FullArgSpec' object has no attribute 'get'"
     ]
    }
   ],
   "source": [
    "inspect.getfullargspec(this).get(\"annotations\")"
   ]
  },
  {
   "cell_type": "code",
   "execution_count": 29,
   "metadata": {},
   "outputs": [
    {
     "name": "stdout",
     "output_type": "stream",
     "text": [
      "a: 1\n",
      "b:\n",
      "  'No': false\n",
      "  'yes': true\n",
      "list:\n",
      "- 1\n",
      "- 2\n",
      "- 3\n",
      "- not: this\n",
      "  oh: 'no'\n",
      "\n"
     ]
    }
   ],
   "source": [
    "import yaml\n",
    "print(yaml.dump({\"a\":1,\"b\":{\"yes\":True,\"No\":False}, \"list\":[1,2,3,{\"oh\":\"no\", \"not\":\"this\"}]}))"
   ]
  },
  {
   "cell_type": "code",
   "execution_count": 15,
   "metadata": {
    "scrolled": false
   },
   "outputs": [],
   "source": [
    "from apispec import APISpec\n",
    "from apispec_webframeworks.flask import FlaskPlugin\n",
    "import flask\n",
    "from flask import Flask\n",
    "from typing import List, Callable\n",
    "from . import parse_args\n",
    "\n",
    "def create_apispec(appname:str, version:str = \"1.0.0\") -> APISpec:\n",
    "    # Create an APISpec\n",
    "    spec = APISpec(\n",
    "        title=appname,\n",
    "        version=version,\n",
    "        openapi_version=\"3.0.2\",\n",
    "        plugins=[FlaskPlugin()],\n",
    "    )\n",
    "    return spec\n",
    "\n",
    "def jigger_the_docstring(function: Callable):\n",
    "    docstring = function.__doc__\n",
    "    \n",
    "    if \"---\" in docstring:\n",
    "        return\n",
    "    \n",
    "    openapi_docstring = f\"\"\"\n",
    "    get:\n",
    "        summary: GET function.__name__\n",
    "        description: {docstring}\n",
    "        {swagger_query_params(function)}\n",
    "        {swagger_positional_args(function)}\n",
    "    \"\"\"\n",
    "\n",
    "def swagger_format(in, name, description, type=None, default=None, **other_stuff):\n",
    "    params = {\n",
    "        \"parameters\":\n",
    "        [{\n",
    "            \"in\":in,\n",
    "            \"name\":name,\n",
    "            \"description\":description,\n",
    "            \"schema\":{\n",
    "                \"type\":type,\n",
    "                \"default\":default\n",
    "            },\n",
    "            **other_stuff\n",
    "        }]\n",
    "    return params\n",
    "    \n",
    "def swagger_it(function: Callable):\n",
    "    positional, named = parse_args(function)\n",
    "    in = \"path\"\n",
    "    \n",
    "    return swagger_format(in=in, name=Callable.__name__, description=function.__doc__)\n",
    "        \n",
    "def register_function_specs(app: flask.Flask, spec: APISpec):\n",
    "    # Register the path and the entities within it\n",
    "    view_functions = app.view_functions\n",
    "    with app.test_request_context():\n",
    "        for function in view_functions.values():\n",
    "            spec.path(view=function)\n",
    "\n",
    "\n",
    "\n",
    "# Optional Flask support\n",
    "app = Flask(__name__)\n",
    "\n",
    "\n",
    "@app.route(\"/random\")\n",
    "def random_animal():\n",
    "    \"\"\" Cool Foo-Bar route.\n",
    "    ---\n",
    "    get:\n",
    "        summary: Foo-Bar endpoint.\n",
    "        description: Get a single foo with the bar ID.\n",
    "        parameters:\n",
    "            - name: bar_id\n",
    "              in: path\n",
    "              description: Bar ID\n",
    "              schema:\n",
    "                  type: python Dict[str,Any]\n",
    "                  required: true\n",
    "            - name: aggFunc\n",
    "              in: query\n",
    "              description: The funcs arfe gging\n",
    "              schema:\n",
    "                  type: string\n",
    "              default: empty\n",
    "            - name: test\n",
    "              schema:\n",
    "                  type: custom\n",
    "              in: query\n",
    "              description: this is just a test\n",
    "        responses:\n",
    "            200:\n",
    "                description: Foo object to be returned.\n",
    "                schema: FooSchema\n",
    "            404:\n",
    "                description: Foo not found.\n",
    "    \"\"\"\n",
    "    # Hardcoded example data\n",
    "    pet_data = {\n",
    "        \"name\": \"sample_pet_\" + str(uuid.uuid1()),\n",
    "        \"categories\": [{\"id\": 1, \"name\": \"sample_category\"}],\n",
    "    }\n",
    "    return pet_data\n",
    "\n",
    "\n",
    "@app.route(\"/person\")\n",
    "def random_person():\n",
    "    \"\"\" Cool Foo-Bar route.\n",
    "    ---\n",
    "    get:\n",
    "        summary: Foo-Bar endpoint.\n",
    "        description: Get a single foo with the bar ID.\n",
    "        parameters:\n",
    "            - in: query\n",
    "              name: offset\n",
    "              schema:\n",
    "                type: integer\n",
    "              description: The number of items to skip before starting to collect the result set\n",
    "            - in: query\n",
    "              name: limit\n",
    "              schema:\n",
    "                type: integer\n",
    "              description: The numbers of items to return\n",
    "    \"\"\"\n",
    "    return {\"message\":\"this\"}\n"
   ]
  },
  {
   "cell_type": "code",
   "execution_count": 24,
   "metadata": {},
   "outputs": [
    {
     "data": {
      "text/plain": [
       "<function __main__.<lambda>(x)>"
      ]
     },
     "execution_count": 24,
     "metadata": {},
     "output_type": "execute_result"
    }
   ],
   "source": [
    "func_name=\"random_pet\"\n",
    "app.view_functions[func_name]"
   ]
  },
  {
   "cell_type": "code",
   "execution_count": 8,
   "metadata": {},
   "outputs": [],
   "source": [
    "swagger_ui = \"\"\"<!DOCTYPE html>\n",
    "<html>\n",
    "  <head>\n",
    "    <title>Swagger</title>\n",
    "    <meta charset=\"utf-8\"/>\n",
    "    <meta name=\"viewport\" content=\"width=device-width, initial-scale=1\">\n",
    "    <link rel=\"stylesheet\" type=\"text/css\" href=\"//unpkg.com/swagger-ui-dist@3/swagger-ui.css\" />\n",
    "  </head>\n",
    "  <body>\n",
    "    <div id=\"swagger-ui\"></div>\n",
    "    <script src=\"//unpkg.com/swagger-ui-dist@3/swagger-ui-bundle.js\"></script>\n",
    "    <script>\n",
    "    const ui = SwaggerUIBundle({\n",
    "        url: \"/swagger\",\n",
    "        dom_id: '#swagger-ui',\n",
    "        presets: [\n",
    "          SwaggerUIBundle.presets.apis,\n",
    "          SwaggerUIBundle.SwaggerUIStandalonePreset\n",
    "        ],\n",
    "        layout: \"BaseLayout\",\n",
    "        requestInterceptor: (request) => {\n",
    "          request.headers['X-CSRFToken'] = \"{{ csrf_token }}\"\n",
    "          return request;\n",
    "        }\n",
    "      })\n",
    "    </script>\n",
    "  </body>\n",
    "</html>\"\"\"\n",
    "\n",
    "@app.route(\"/\")\n",
    "def read_swagger():\n",
    "    return swagger_ui\n",
    "\n",
    "\n",
    "import json\n",
    "@app.route(\"/swagger\")\n",
    "def serve_swagger():\n",
    "    return json.dumps(spec.to_dict())"
   ]
  },
  {
   "cell_type": "code",
   "execution_count": 9,
   "metadata": {
    "scrolled": false
   },
   "outputs": [
    {
     "name": "stdout",
     "output_type": "stream",
     "text": [
      " * Serving Flask app \"__main__\" (lazy loading)\n",
      " * Environment: production\n",
      "\u001b[31m   WARNING: This is a development server. Do not use it in a production deployment.\u001b[0m\n",
      "\u001b[2m   Use a production WSGI server instead.\u001b[0m\n",
      " * Debug mode: off\n"
     ]
    },
    {
     "name": "stderr",
     "output_type": "stream",
     "text": [
      " * Running on http://127.0.0.1:5000/ (Press CTRL+C to quit)\n",
      "127.0.0.1 - - [31/Mar/2020 21:35:10] \"\u001b[37mGET / HTTP/1.1\u001b[0m\" 200 -\n",
      "127.0.0.1 - - [31/Mar/2020 21:35:11] \"\u001b[37mGET /swagger HTTP/1.1\u001b[0m\" 200 -\n",
      "127.0.0.1 - - [31/Mar/2020 21:35:11] \"\u001b[33mGET /favicon.ico HTTP/1.1\u001b[0m\" 404 -\n"
     ]
    }
   ],
   "source": [
    "app.run()"
   ]
  },
  {
   "cell_type": "code",
   "execution_count": null,
   "metadata": {},
   "outputs": [],
   "source": []
  }
 ],
 "metadata": {
  "kernelspec": {
   "display_name": "Python 3",
   "language": "python",
   "name": "python3"
  },
  "language_info": {
   "codemirror_mode": {
    "name": "ipython",
    "version": 3
   },
   "file_extension": ".py",
   "mimetype": "text/x-python",
   "name": "python",
   "nbconvert_exporter": "python",
   "pygments_lexer": "ipython3",
   "version": "3.7.5"
  }
 },
 "nbformat": 4,
 "nbformat_minor": 4
}
